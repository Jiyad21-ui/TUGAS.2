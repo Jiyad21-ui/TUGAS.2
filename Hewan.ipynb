{
  "nbformat": 4,
  "nbformat_minor": 0,
  "metadata": {
    "colab": {
      "provenance": []
    },
    "kernelspec": {
      "name": "python3",
      "display_name": "Python 3"
    },
    "language_info": {
      "name": "python"
    }
  },
  "cells": [
    {
      "cell_type": "code",
      "execution_count": 9,
      "metadata": {
        "colab": {
          "base_uri": "https://localhost:8080/"
        },
        "id": "Ix8hPTOfgyEH",
        "outputId": "86222000-dc95-4465-f596-192d056555ae"
      },
      "outputs": [
        {
          "output_type": "stream",
          "name": "stdout",
          "text": [
            "Kucing mengeluarkan suara.\n"
          ]
        }
      ],
      "source": [
        "class Hewan:\n",
        "    def __init__(self, nama):\n",
        "        self.nama = nama\n",
        "\n",
        "    def bersuara(self):\n",
        "        print(f\"{self.nama} mengeluarkan suara.\")\n",
        "\n",
        "kucing = Hewan(\"Kucing\")\n",
        "kucing.bersuara()\n"
      ]
    }
  ]
}