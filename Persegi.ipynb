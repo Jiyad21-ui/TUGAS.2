{
  "nbformat": 4,
  "nbformat_minor": 0,
  "metadata": {
    "colab": {
      "provenance": []
    },
    "kernelspec": {
      "name": "python3",
      "display_name": "Python 3"
    },
    "language_info": {
      "name": "python"
    }
  },
  "cells": [
    {
      "cell_type": "code",
      "execution_count": 8,
      "metadata": {
        "colab": {
          "base_uri": "https://localhost:8080/"
        },
        "id": "Ix8hPTOfgyEH",
        "outputId": "55735d24-f053-418d-b1e1-de4ec99361ce"
      },
      "outputs": [
        {
          "output_type": "stream",
          "name": "stdout",
          "text": [
            "Luas persegi: 36\n"
          ]
        }
      ],
      "source": [
        "class Persegi:\n",
        "    def __init__(self, sisi):\n",
        "        self.sisi = sisi\n",
        "\n",
        "    def hitungLuas(self):\n",
        "        return self.sisi * self.sisi\n",
        "\n",
        "kotak = Persegi(6)\n",
        "print(\"Luas persegi:\", kotak.hitungLuas())"
      ]
    }
  ]
}