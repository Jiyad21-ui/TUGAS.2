{
  "nbformat": 4,
  "nbformat_minor": 0,
  "metadata": {
    "colab": {
      "provenance": []
    },
    "kernelspec": {
      "name": "python3",
      "display_name": "Python 3"
    },
    "language_info": {
      "name": "python"
    }
  },
  "cells": [
    {
      "cell_type": "code",
      "execution_count": 4,
      "metadata": {
        "colab": {
          "base_uri": "https://localhost:8080/"
        },
        "id": "Ix8hPTOfgyEH",
        "outputId": "d7a049a9-7391-4746-9a98-55831b13ac40"
      },
      "outputs": [
        {
          "output_type": "stream",
          "name": "stdout",
          "text": [
            "Luas lingkaran: 153.86\n"
          ]
        }
      ],
      "source": [
        "class Lingkaran:\n",
        "    def __init__(self, radius):\n",
        "        self.radius = radius\n",
        "\n",
        "    def hitungLuas(self):\n",
        "        return 3.14 * self.radius * self.radius\n",
        "\n",
        "blt = Lingkaran(7)\n",
        "print(\"Luas lingkaran:\", blt.hitungLuas())"
      ]
    }
  ]
}