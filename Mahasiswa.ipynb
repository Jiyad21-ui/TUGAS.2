{
  "nbformat": 4,
  "nbformat_minor": 0,
  "metadata": {
    "colab": {
      "provenance": []
    },
    "kernelspec": {
      "name": "python3",
      "display_name": "Python 3"
    },
    "language_info": {
      "name": "python"
    }
  },
  "cells": [
    {
      "cell_type": "code",
      "execution_count": 3,
      "metadata": {
        "colab": {
          "base_uri": "https://localhost:8080/"
        },
        "id": "Ix8hPTOfgyEH",
        "outputId": "56e42e3b-2dd6-4646-fa49-8ccbb2d40507"
      },
      "outputs": [
        {
          "output_type": "stream",
          "name": "stdout",
          "text": [
            "Mahasiswa jiyad dengan NIM 230705113 mencetak KRS.\n"
          ]
        }
      ],
      "source": [
        "class Mahasiswa:\n",
        "    def __init__(self, nama, nim):\n",
        "        self.nama = nama\n",
        "        self.nim = nim\n",
        "\n",
        "    def cetakKRS(self):\n",
        "        print(f\"Mahasiswa {self.nama} dengan NIM {self.nim} mencetak KRS.\")\n",
        "\n",
        "mhs = Mahasiswa(\"jiyad\", \"230705113\")\n",
        "mhs.cetakKRS()"
      ]
    }
  ]
}